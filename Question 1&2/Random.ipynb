{
 "cells": [
  {
   "cell_type": "code",
   "execution_count": 3,
   "metadata": {},
   "outputs": [],
   "source": [
    "%matplotlib inline\n",
    "import matplotlib as mpl\n",
    "import matplotlib.pyplot as plt\n",
    "from pathlib import Path\n",
    "\n",
    "# Common imports\n",
    "import numpy as np\n",
    "import os\n",
    "import tarfile\n",
    "import urllib\n",
    "import pandas as pd\n",
    "\n",
    "# Scikit-Learn ≥0.20 is required\n",
    "import sklearn\n",
    "assert sklearn.__version__ >= \"0.20\"\n",
    "\n",
    "import sys\n",
    "assert sys.version_info >= (3, 5)\n",
    "# Python ≥3.5 is required"
   ]
  },
  {
   "cell_type": "code",
   "execution_count": 40,
   "metadata": {},
   "outputs": [],
   "source": [
    "num = 0\n",
    "#folder location\n",
    "folder=('/Users/Calum/OneDrive/Documents/DMAML/Ytrain' )\n",
    "#getting all files in folder\n",
    "for file in Path(folder).glob('*.csv'):\n",
    "    File1 = pd.read_csv(file)\n",
    "    #randomising\n",
    "    df = File1.sample(n=9689, random_state=123)\n",
    "    #creating new csv\n",
    "    df.to_csv('/Users/Calum/OneDrive/Documents/DMAML/X_train_gr_smpl_'+str(num)+'.csv', index =False)\n",
    "    num = num + 1\n"
   ]
  },
  {
   "cell_type": "code",
   "execution_count": null,
   "metadata": {},
   "outputs": [],
   "source": [
    "num = 0\n",
    "#folder location\n",
    "folder=('/Users/Calum/OneDrive/Documents/DMAML/Xtrain' )\n",
    "#getting all files in folder\n",
    "for file in Path(folder).glob('*.csv'):\n",
    "    File1 = pd.read_csv(file)\n",
    "    #randomising\n",
    "    df = File1.sample(n=9689, random_state=123)\n",
    "    #creating new csv\n",
    "    df.to_csv('/Users/Calum/OneDrive/Documents/DMAML/X_train_gr_smpl'+str(num)+'.csv', index =False)\n",
    "    num = num + 1\n"
   ]
  }
 ],
 "metadata": {
  "kernelspec": {
   "display_name": "Python 3",
   "language": "python",
   "name": "python3"
  },
  "language_info": {
   "codemirror_mode": {
    "name": "ipython",
    "version": 3
   },
   "file_extension": ".py",
   "mimetype": "text/x-python",
   "name": "python",
   "nbconvert_exporter": "python",
   "pygments_lexer": "ipython3",
   "version": "3.8.3"
  }
 },
 "nbformat": 4,
 "nbformat_minor": 4
}
